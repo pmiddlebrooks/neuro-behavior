{
 "cells": [
  {
   "cell_type": "markdown",
   "metadata": {},
   "source": [
    "## Testing some python codes"
   ]
  },
  {
   "cell_type": "markdown",
   "metadata": {},
   "source": [
    "# Load standard behavior and neural data"
   ]
  },
  {
   "cell_type": "code",
   "execution_count": 1,
   "metadata": {},
   "outputs": [],
   "source": [
    "# cd to neuro-behavior/src directory, and add the figure_tools package folder to path\n",
    "import os\n",
    "os.chdir('E:/Projects/neuro-behavior/src/')\n",
    "import sys\n",
    "sys.path.append('E:/Projects/')\n",
    "import figure_tools as ft\n",
    "from neurobehavior.neuro_behavior_options import neuro_behavior_options\n",
    "import matplotlib.pyplot as plt\n"
   ]
  },
  {
   "cell_type": "code",
   "execution_count": 2,
   "metadata": {},
   "outputs": [
    {
     "name": "stdout",
     "output_type": "stream",
     "text": [
      "in_nest_sleeping_or_irrelevant code -1.0 is not a valid behavior for this analysis\n",
      "\n",
      "\n",
      "Behavior 0.0: investigate_1\n",
      "256: allPossible\n",
      "246: andLongEnough\n",
      "202: andNotRepeated\n",
      "Percent valid: 78.9\n",
      "\n",
      "Behavior 1.0: investigate_2\n",
      "927: allPossible\n",
      "878: andLongEnough\n",
      "449: andNotRepeated\n",
      "Percent valid: 48.4\n",
      "\n",
      "Behavior 2.0: investigate_3\n",
      "116: allPossible\n",
      "110: andLongEnough\n",
      "83: andNotRepeated\n",
      "Percent valid: 71.6\n",
      "\n",
      "Behavior 3.0: rear\n",
      "32: allPossible\n",
      "31: andLongEnough\n",
      "26: andNotRepeated\n",
      "Percent valid: 81.2\n",
      "\n",
      "Behavior 4.0: dive_scrunch\n",
      "114: allPossible\n",
      "107: andLongEnough\n",
      "97: andNotRepeated\n",
      "Percent valid: 85.1\n",
      "\n",
      "Behavior 5.0: paw_groom\n",
      "100: allPossible\n",
      "98: andLongEnough\n",
      "66: andNotRepeated\n",
      "Percent valid: 66.0\n",
      "\n",
      "Behavior 6.0: face_groom_1\n",
      "210: allPossible\n",
      "200: andLongEnough\n",
      "127: andNotRepeated\n",
      "Percent valid: 60.5\n",
      "\n",
      "Behavior 7.0: face_groom_2\n",
      "135: allPossible\n",
      "130: andLongEnough\n",
      "74: andNotRepeated\n",
      "Percent valid: 54.8\n",
      "\n",
      "Behavior 8.0: head_groom\n",
      "140: allPossible\n",
      "134: andLongEnough\n",
      "91: andNotRepeated\n",
      "Percent valid: 65.0\n",
      "\n",
      "Behavior 9.0: contra_body_groom\n",
      "72: allPossible\n",
      "68: andLongEnough\n",
      "47: andNotRepeated\n",
      "Percent valid: 65.3\n",
      "\n",
      "Behavior 10.0: ipsi_body groom\n",
      "112: allPossible\n",
      "103: andLongEnough\n",
      "67: andNotRepeated\n",
      "Percent valid: 59.8\n",
      "\n",
      "Behavior 11.0: contra_itch\n",
      "171: allPossible\n",
      "157: andLongEnough\n",
      "113: andNotRepeated\n",
      "Percent valid: 66.1\n",
      "\n",
      "Behavior 12.0: ipsi_itch_1\n",
      "135: allPossible\n",
      "123: andLongEnough\n",
      "85: andNotRepeated\n",
      "Percent valid: 63.0\n",
      "\n",
      "Behavior 13.0: contra_orient\n",
      "349: allPossible\n",
      "304: andLongEnough\n",
      "248: andNotRepeated\n",
      "Percent valid: 71.1\n",
      "\n",
      "Behavior 14.0: ipsi_orient\n",
      "492: allPossible\n",
      "431: andLongEnough\n",
      "332: andNotRepeated\n",
      "Percent valid: 67.5\n",
      "\n",
      "Behavior 15.0: locomotion\n",
      "1003: allPossible\n",
      "965: andLongEnough\n",
      "500: andNotRepeated\n",
      "Percent valid: 49.9\n",
      "\n",
      "\n",
      "Keeping 225 of 499 neurons\n",
      "20 M23\n",
      "49 M56\n",
      "96 DS\n",
      "60 VS\n"
     ]
    }
   ],
   "source": [
    "# make any options changes\n",
    "opts = neuro_behavior_options()\n",
    "opts['frameSize'] = .2\n",
    "\n",
    "%run -i get_standard_data.py"
   ]
  },
  {
   "cell_type": "markdown",
   "metadata": {},
   "source": [
    "# Pacmap\n",
    "[github link](https://github.com/YingfanWang/PaCMAP)"
   ]
  },
  {
   "cell_type": "code",
   "execution_count": 3,
   "metadata": {},
   "outputs": [],
   "source": [
    "idInd = idDS"
   ]
  },
  {
   "cell_type": "code",
   "execution_count": 4,
   "metadata": {},
   "outputs": [],
   "source": [
    "import pacmap\n",
    "\n",
    "X = dataMat[:, idDS]\n",
    "# X = X.reshape(X.shape[0], -1)\n",
    "y = bhvIDMat\n",
    "\n",
    "# initializing the pacmap instance\n",
    "# Setting n_neighbors to \"None\" leads to a default choice shown below in \"parameter\" section\n",
    "embedding = pacmap.PaCMAP(n_components=2, n_neighbors=None, MN_ratio=0.5, FP_ratio=2.0) \n",
    "\n",
    "# fit the data (The index of transformed data corresponds to the index of the original data)\n",
    "X_transformed = embedding.fit_transform(X, init=\"pca\")"
   ]
  },
  {
   "cell_type": "markdown",
   "metadata": {},
   "source": [
    "### Visualize Pacmap"
   ]
  },
  {
   "cell_type": "code",
   "execution_count": 18,
   "metadata": {},
   "outputs": [],
   "source": [
    "%matplotlib qt5\n",
    "import matplotlib.pyplot as plt\n",
    "from mpl_toolkits.mplot3d import Axes3D\n",
    "\n",
    "bhvColors = ft.colors_for_behaviors(behaviors)\n",
    "# Prepare colors: Map each label to its RGB color\n",
    "bhvIDMatColors = bhvIDMat + 1\n",
    "colors = np.array([bhvColors[label] for label in bhvIDMatColors])  # Adjust indexing if necessary\n",
    "\n",
    "# The third dimension (Z) is a sequence from 1 to dataMat.shape[0]\n",
    "z = np.arange(1, dataMat.shape[0] + 1)\n",
    "\n",
    "# visualize the embedding\n",
    "fig = plt.figure(figsize=(18, 18))\n",
    "ax = fig.add_subplot(111, projection='3d')\n",
    "\n",
    "ax.scatter(X_transformed[:, 0], X_transformed[:, 1], z, color=colors, s=10, \n",
    "           marker='o', linewidths=1.5, facecolors='none')\n",
    "ax.set_title('PACMAP projection of the dataMat dataset', fontsize=24)\n",
    "ax.set_xlabel('Component 1')\n",
    "ax.set_ylabel('Component 2')\n",
    "plt.tight_layout()\n",
    "\n",
    "plt.show()\n"
   ]
  },
  {
   "cell_type": "markdown",
   "metadata": {},
   "source": [
    "# UMAP"
   ]
  },
  {
   "cell_type": "code",
   "execution_count": 14,
   "metadata": {},
   "outputs": [],
   "source": [
    "import umap\n",
    "\n",
    "# Initialize UMAP. You can adjust the parameters as needed.\n",
    "reducer = umap.UMAP(n_neighbors=15, n_components=2, metric='euclidean')\n",
    "\n",
    "# Fit the model to your data\n",
    "embedding = reducer.fit_transform(dataMat[:, idInd])"
   ]
  },
  {
   "cell_type": "markdown",
   "metadata": {},
   "source": [
    "### Visualize UMAP"
   ]
  },
  {
   "cell_type": "code",
   "execution_count": 17,
   "metadata": {},
   "outputs": [],
   "source": [
    "import matplotlib.pyplot as plt\n",
    "\n",
    "bhvColors = ft.colors_for_behaviors(behaviors)\n",
    "# Prepare colors: Map each label to its RGB color\n",
    "bhvIDMatColors = bhvIDMat + 1\n",
    "colors = np.array([bhvColors[label] for label in bhvIDMatColors])  # Adjust indexing if necessary\n",
    "\n",
    "# Plotting the result\n",
    "fig = plt.figure(figsize=(18, 18))\n",
    "ax = fig.add_subplot(111, projection='3d')\n",
    "\n",
    "ax.scatter(embedding[:, 0], embedding[:, 1], z, color=colors, s=10, \n",
    "           marker='o', linewidths=1.5, facecolors='none')\n",
    "ax.set_title('UMAP projection of the dataMat dataset', fontsize=24)\n",
    "ax.set_xlabel('Component 1')\n",
    "ax.set_ylabel('Component 2')\n",
    "\n",
    "plt.tight_layout()\n",
    "plt.show()\n"
   ]
  }
 ],
 "metadata": {
  "kernelspec": {
   "display_name": "Python 3 (ipykernel)",
   "language": "python",
   "name": "python3"
  },
  "language_info": {
   "codemirror_mode": {
    "name": "ipython",
    "version": 3
   },
   "file_extension": ".py",
   "mimetype": "text/x-python",
   "name": "python",
   "nbconvert_exporter": "python",
   "pygments_lexer": "ipython3",
   "version": "3.11.4"
  }
 },
 "nbformat": 4,
 "nbformat_minor": 2
}
