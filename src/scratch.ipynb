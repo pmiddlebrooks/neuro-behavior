{
 "cells": [
  {
   "cell_type": "markdown",
   "metadata": {},
   "source": [
    "## Testing some python codes"
   ]
  },
  {
   "cell_type": "markdown",
   "metadata": {},
   "source": [
    "# Load standard behavior and neural data"
   ]
  },
  {
   "cell_type": "code",
   "execution_count": 1,
   "metadata": {},
   "outputs": [],
   "source": [
    "# cd to neuro-behavior/src directory, and add the figure_tools package folder to path\n",
    "import os\n",
    "os.chdir('E:/Projects/neuro-behavior/src/')\n",
    "import sys\n",
    "sys.path.append('E:/Projects/')\n",
    "import figure_tools as ft\n",
    "from neurobehavior.neuro_behavior_options import neuro_behavior_options\n",
    "import matplotlib.pyplot as plt\n"
   ]
  },
  {
   "cell_type": "code",
   "execution_count": 2,
   "metadata": {},
   "outputs": [
    {
     "name": "stdout",
     "output_type": "stream",
     "text": [
      "-1: in_nest_sleeping_or_irrelevant: Valid: 177 (72.5)%\n",
      "\n",
      "0: investigate_1: Valid: 202 (78.9)%\n",
      "\n",
      "1: investigate_2: Valid: 449 (48.4)%\n",
      "\n",
      "2: investigate_3: Valid: 83 (71.6)%\n",
      "\n",
      "3: rear: Valid: 26 (81.2)%\n",
      "\n",
      "4: dive_scrunch: Valid: 97 (85.1)%\n",
      "\n",
      "5: paw_groom: Valid: 66 (66.0)%\n",
      "\n",
      "6: face_groom_1: Valid: 127 (60.5)%\n",
      "\n",
      "7: face_groom_2: Valid: 74 (54.8)%\n",
      "\n",
      "8: head_groom: Valid: 91 (65.0)%\n",
      "\n",
      "9: contra_body_groom: Valid: 47 (65.3)%\n",
      "\n",
      "10: ipsi_body groom: Valid: 67 (59.8)%\n",
      "\n",
      "11: contra_itch: Valid: 113 (66.1)%\n",
      "\n",
      "12: ipsi_itch_1: Valid: 85 (63.0)%\n",
      "\n",
      "13: contra_orient: Valid: 248 (71.1)%\n",
      "\n",
      "14: ipsi_orient: Valid: 332 (67.5)%\n",
      "\n",
      "15: locomotion: Valid: 500 (49.9)%\n",
      "\n",
      "\n",
      "Keeping 225 of 499 neurons\n",
      "20 M23\n",
      "49 M56\n",
      "96 DS\n",
      "60 VS\n"
     ]
    },
    {
     "name": "stderr",
     "output_type": "stream",
     "text": [
      "E:\\Projects\\neuro-behavior\\src\\get_standard_data.py:127: UserWarning: Pandas doesn't allow columns to be created via a new attribute name - see https://pandas.pydata.org/pandas-docs/stable/indexing.html#attribute-access\n",
      "  dataBhv.StartFrame = 1 + np.floor(dataBhv.StartTime / opts['frameSize'])\n",
      "E:\\Projects\\neuro-behavior\\src\\get_standard_data.py:128: UserWarning: Pandas doesn't allow columns to be created via a new attribute name - see https://pandas.pydata.org/pandas-docs/stable/indexing.html#attribute-access\n",
      "  dataBhv.DurFrame = np.floor(dataBhv.Dur / opts['frameSize'])\n"
     ]
    }
   ],
   "source": [
    "# make any options changes\n",
    "opts = neuro_behavior_options()\n",
    "opts['frameSize'] = .05\n",
    "opts['collectFor'] = 45 * 60\n",
    "\n",
    "%run -i get_standard_data.py"
   ]
  },
  {
   "cell_type": "markdown",
   "metadata": {},
   "source": [
    "# Pacmap\n",
    "[github link](https://github.com/YingfanWang/PaCMAP)"
   ]
  },
  {
   "cell_type": "code",
   "execution_count": 4,
   "metadata": {},
   "outputs": [],
   "source": [
    "idInd = idDS"
   ]
  },
  {
   "cell_type": "code",
   "execution_count": 4,
   "metadata": {},
   "outputs": [],
   "source": [
    "import pacmap\n",
    "\n",
    "X = dataMat[:, idDS]\n",
    "# X = X.reshape(X.shape[0], -1)\n",
    "y = bhvIDMat\n",
    "\n",
    "# initializing the pacmap instance\n",
    "# Setting n_neighbors to \"None\" leads to a default choice shown below in \"parameter\" section\n",
    "embedding = pacmap.PaCMAP(n_components=2, n_neighbors=None, MN_ratio=0.5, FP_ratio=2.0) \n",
    "\n",
    "# fit the data (The index of transformed data corresponds to the index of the original data)\n",
    "X_transformed = embedding.fit_transform(X, init=\"pca\")"
   ]
  },
  {
   "cell_type": "markdown",
   "metadata": {},
   "source": [
    "### Visualize Pacmap"
   ]
  },
  {
   "cell_type": "code",
   "execution_count": 18,
   "metadata": {},
   "outputs": [],
   "source": [
    "%matplotlib qt5\n",
    "import matplotlib.pyplot as plt\n",
    "from mpl_toolkits.mplot3d import Axes3D\n",
    "\n",
    "bhvColors = ft.colors_for_behaviors(behaviors)\n",
    "# Prepare colors: Map each label to its RGB color\n",
    "bhvIDMatColors = bhvIDMat + 1\n",
    "colors = np.array([bhvColors[label] for label in bhvIDMatColors])  # Adjust indexing if necessary\n",
    "\n",
    "# The third dimension (Z) is a sequence from 1 to dataMat.shape[0]\n",
    "z = np.arange(1, dataMat.shape[0] + 1)\n",
    "\n",
    "# visualize the embedding\n",
    "fig = plt.figure(figsize=(18, 18))\n",
    "ax = fig.add_subplot(111, projection='3d')\n",
    "\n",
    "ax.scatter(X_transformed[:, 0], X_transformed[:, 1], z, color=colors, s=10, \n",
    "           marker='o', linewidths=1.5, facecolors='none')\n",
    "ax.set_title('PACMAP projection of the dataMat dataset', fontsize=24)\n",
    "ax.set_xlabel('Component 1')\n",
    "ax.set_ylabel('Component 2')\n",
    "plt.tight_layout()\n",
    "\n",
    "plt.show()\n"
   ]
  },
  {
   "cell_type": "markdown",
   "metadata": {},
   "source": [
    "# UMAP"
   ]
  },
  {
   "cell_type": "code",
   "execution_count": 6,
   "metadata": {},
   "outputs": [
    {
     "ename": "NameError",
     "evalue": "name 'idInd' is not defined",
     "output_type": "error",
     "traceback": [
      "\u001b[1;31m---------------------------------------------------------------------------\u001b[0m",
      "\u001b[1;31mNameError\u001b[0m                                 Traceback (most recent call last)",
      "Cell \u001b[1;32mIn[6], line 7\u001b[0m\n\u001b[0;32m      4\u001b[0m reducer \u001b[38;5;241m=\u001b[39m umap\u001b[38;5;241m.\u001b[39mUMAP(n_neighbors\u001b[38;5;241m=\u001b[39m\u001b[38;5;241m15\u001b[39m, n_components\u001b[38;5;241m=\u001b[39m\u001b[38;5;241m2\u001b[39m, metric\u001b[38;5;241m=\u001b[39m\u001b[38;5;124m'\u001b[39m\u001b[38;5;124meuclidean\u001b[39m\u001b[38;5;124m'\u001b[39m)\n\u001b[0;32m      6\u001b[0m \u001b[38;5;66;03m# Fit the model to your data\u001b[39;00m\n\u001b[1;32m----> 7\u001b[0m embedding \u001b[38;5;241m=\u001b[39m reducer\u001b[38;5;241m.\u001b[39mfit_transform(dataMat[:, idInd])\n",
      "\u001b[1;31mNameError\u001b[0m: name 'idInd' is not defined"
     ]
    }
   ],
   "source": [
    "import umap\n",
    "\n",
    "# Initialize UMAP. You can adjust the parameters as needed.\n",
    "reducer = umap.UMAP(n_neighbors=15, n_components=2, metric='euclidean')\n",
    "\n",
    "# Fit the model to your data\n",
    "embedding = reducer.fit_transform(dataMat[:, idInd])"
   ]
  },
  {
   "cell_type": "markdown",
   "metadata": {},
   "source": [
    "### Visualize UMAP"
   ]
  },
  {
   "cell_type": "code",
   "execution_count": null,
   "metadata": {},
   "outputs": [],
   "source": [
    "import matplotlib.pyplot as plt\n",
    "\n",
    "bhvColors = ft.colors_for_behaviors(behaviors)\n",
    "# Prepare colors: Map each label to its RGB color\n",
    "bhvIDMatColors = bhvIDMat + 1\n",
    "colors = np.array([bhvColors[label] for label in bhvIDMatColors])  # Adjust indexing if necessary\n",
    "\n",
    "# The third dimension (Z) is a sequence from 1 to dataMat.shape[0]\n",
    "z = np.arange(1, dataMat.shape[0] + 1)\n",
    "\n",
    "# Plotting the result\n",
    "fig = plt.figure(figsize=(18, 18))\n",
    "ax = fig.add_subplot(111, projection='3d')\n",
    "\n",
    "ax.scatter(embedding[:, 0], embedding[:, 1], z, color=colors, s=10, \n",
    "           marker='o', linewidths=1.5, facecolors='none')\n",
    "ax.set_title('UMAP projection of the dataMat dataset', fontsize=24)\n",
    "ax.set_xlabel('Component 1')\n",
    "ax.set_ylabel('Component 2')\n",
    "\n",
    "plt.tight_layout()\n",
    "plt.show()\n"
   ]
  },
  {
   "cell_type": "markdown",
   "metadata": {},
   "source": [
    "Get unique sequences\n"
   ]
  },
  {
   "cell_type": "code",
   "execution_count": 8,
   "metadata": {},
   "outputs": [
    {
     "name": "stdout",
     "output_type": "stream",
     "text": [
      "Unique Sequences: [[1, 15], [15, 1], [14, 15], [15, 14], [13, 15], [1, 14], [15, 13], [13, 1], [14, 1], [0, 1], [0, 14], [1, 13], [-1, 15], [0, 13], [11, 9], [14, 0], [13, -1], [15, 0], [8, 7], [1, 0], [14, 2], [-1, 1], [12, 15], [1, -1], [14, 6], [15, 12], [11, 13], [6, 7], [2, 1], [12, 10], [4, 6], [-1, 10], [2, 4], [10, 12], [14, 12], [6, 0], [15, -1], [13, 0], [7, 6], [11, 15], [4, 0], [6, 14], [2, 14], [6, 5], [7, 8], [0, 6], [6, 8], [1, 2], [5, 6], [9, 11], [9, 8], [14, 5], [8, 11], [4, 13], [-1, 11], [12, -1], [15, 11], [-1, 14], [13, 8], [5, 7], [13, 11], [10, -1], [15, 6], [5, 14], [10, 4], [7, 11], [0, 12], [0, 15], [5, 12], [-1, 6], [12, 14], [4, 5], [11, 8], [8, 6], [11, -1], [13, 6], [14, 10], [8, 14], [15, 10], [4, 7], [11, 14], [1, 4], [-1, 13], [-1, 7], [6, 13], [7, 13], [8, 9], [0, 11], [0, 4], [13, 7], [9, -1], [1, 6], [2, 15], [1, 11], [6, 10], [11, 1], [7, 14], [-1, 12], [13, 14], [15, 2], [3, 14], [-1, 0], [12, 5], [15, 4], [8, 13], [-1, 2], [4, 1], [6, -1], [14, 4], [5, 4], [14, -1], [6, 4], [7, 0], [5, 10], [6, 1], [8, 1], [0, 5], [10, 14], [-1, 4], [6, 15], [1, 7], [-1, 9], [13, 3], [7, 5], [14, 11], [4, 8], [2, -1], [12, 2], [4, 2], [7, -1], [4, 15], [6, 12], [10, 13], [15, 5], [10, 6], [10, 2], [2, 10], [0, -1], [3, 1], [4, -1], [8, 0], [9, 3], [14, 13], [4, 14], [12, 13], [2, 0], [10, 11], [14, 8], [4, 11], [1, 8], [15, 3], [3, -1], [3, 15], [0, 10], [10, 15], [11, 6], [13, 4], [11, 0], [14, 7], [3, 13], [8, -1], [-1, 8], [5, -1], [11, 3], [2, 5], [2, 6], [0, 8], [9, 15], [9, 13], [2, 13], [1, 3], [0, 7], [13, 2], [8, 15], [1, 12], [-1, 5], [15, 8], [3, 0], [3, 9], [13, 9], [12, 0], [-1, 3], [6, 2], [9, 14], [5, 13], [7, 12], [11, 10], [8, 12], [11, 12], [8, 3], [11, 7], [6, 11], [8, 5], [10, 8], [12, 1], [12, 11], [10, 1], [1, 10], [5, 2], [7, 1], [9, 7], [9, 1], [3, 10], [10, 3], [12, 6], [10, 5], [2, 11], [15, 7], [3, 4], [3, 11], [5, 11], [0, 9], [0, 2], [12, 4], [5, 0]]\n",
      "Number of sequences: [243, 232, 132, 88, 87, 60, 59, 58, 54, 50, 49, 48, 47, 32, 31, 31, 30, 29, 28, 27, 27, 26, 22, 22, 21, 21, 21, 21, 21, 20, 19, 19, 18, 17, 17, 17, 17, 16, 16, 15, 15, 15, 15, 15, 15, 15, 14, 14, 14, 14, 13, 13, 13, 13, 12, 12, 12, 12, 12, 11, 11, 11, 11, 11, 11, 11, 11, 10, 10, 10, 10, 10, 10, 10, 9, 9, 9, 9, 9, 9, 8, 8, 8, 8, 8, 8, 8, 8, 8, 7, 7, 7, 7, 7, 7, 7, 6, 6, 6, 6, 6, 6, 6, 6, 6, 6, 6, 6, 6, 6, 6, 6, 6, 6, 6, 5, 5, 5, 5, 5, 5, 5, 5, 5, 5, 5, 5, 5, 5, 4, 4, 4, 4, 4, 4, 4, 4, 4, 4, 4, 4, 4, 4, 4, 4, 4, 4, 4, 3, 3, 3, 3, 3, 3, 3, 3, 3, 3, 3, 3, 3, 3, 3, 3, 3, 3, 3, 3, 2, 2, 2, 2, 2, 2, 2, 2, 2, 2, 2, 2, 2, 2, 2, 2, 2, 2, 1, 1, 1, 1, 1, 1, 1, 1, 1, 1, 1, 1, 1, 1, 1, 1, 1, 1, 1, 1, 1, 1, 1, 1, 1, 1, 1, 1, 1]\n"
     ]
    }
   ],
   "source": [
    "from neurobehavior.find_unique_sequences import find_unique_sequences\n",
    "\n",
    "nSeq = 2\n",
    "validInd = [0, 1, 0]\n",
    "validInd = [1, 0]\n",
    "uniqueSequences, sequenceIndices = find_unique_sequences(dataBhv, nSeq, validInd)\n",
    "print(\"Unique Sequences:\", uniqueSequences)\n",
    "# print(\"Sequence Indices:\", sequenceIndices)\n",
    "print(\"Number of sequences:\", [len(sublist) for sublist in sequenceIndices])"
   ]
  },
  {
   "cell_type": "markdown",
   "metadata": {},
   "source": [
    "Get only the triplets with a particular behavior in the middle"
   ]
  },
  {
   "cell_type": "code",
   "execution_count": 7,
   "metadata": {},
   "outputs": [
    {
     "name": "stdout",
     "output_type": "stream",
     "text": [
      "[[7, 6, 7], [5, 6, 5], [8, 6, 8], [4, 6, 10], [15, 6, 14], [4, 6, 0], [15, 6, 0], [14, 6, 14], [14, 6, 0], [14, 6, 8], [4, 6, 5], [0, 6, 0], [1, 6, 8], [14, 6, 12], [15, 6, 8], [15, 6, 15], [13, 6, 13], [13, 6, 7], [0, 6, 5], [1, 6, 7], [1, 6, 1], [7, 6, 1], [1, 6, 14], [0, 6, 7], [4, 6, 14], [15, 6, 13], [2, 6, 4], [0, 6, 14], [0, 6, 4], [15, 6, 12], [13, 6, 5], [14, 6, 15], [11, 6, 13], [10, 6, -1], [13, 6, 14], [5, 6, 4], [-1, 6, -1], [10, 6, 11], [1, 6, 5], [-1, 6, 7], [7, 6, 15], [13, 6, 8], [14, 6, 13], [11, 6, 1], [8, 6, 0], [11, 6, -1], [4, 6, 12], [14, 6, 4], [15, 6, 10], [-1, 6, 13], [8, 6, 7], [13, 6, -1], [14, 6, 7], [14, 6, 5], [12, 6, 0], [-1, 6, 5], [5, 6, 0], [5, 6, 13], [8, 6, -1], [0, 6, 2], [5, 6, 15], [15, 6, 7], [15, 6, -1], [2, 6, 2], [10, 6, 14], [14, 6, 10], [14, 6, 1]]\n",
      "[11, 6, 6, 5, 4, 4, 4, 3, 3, 3, 3, 3, 2, 2, 2, 2, 2, 2, 2, 2, 2, 2, 2, 2, 2, 2, 2, 2, 2, 1, 1, 1, 1, 1, 1, 1, 1, 1, 1, 1, 1, 1, 1, 1, 1, 1, 1, 1, 1, 1, 1, 1, 1, 1, 1, 1, 1, 1, 1, 1, 1, 1, 1, 1, 1, 1, 1]\n"
     ]
    }
   ],
   "source": [
    "middleBhv = 6\n",
    "\n",
    "# Find indices of sequences in uniqueSequences where the second element equals middleBhv\n",
    "middleIdx = [i for i, seq in enumerate(uniqueSequences) if seq[1] == middleBhv]\n",
    "\n",
    "# Retrieve the sequences corresponding to middleIdx\n",
    "selectedSequences = [uniqueSequences[i] for i in middleIdx]\n",
    "\n",
    "# Calculate and display the lengths of the sequence indices corresponding to middleIdx\n",
    "lengths = [len(sequenceIndices[i]) for i in middleIdx]\n",
    "\n",
    "# Display the selected sequences and lengths\n",
    "print(selectedSequences)\n",
    "print(lengths)\n"
   ]
  },
  {
   "cell_type": "markdown",
   "metadata": {},
   "source": [
    "Project the sequence data into the UMAP space"
   ]
  },
  {
   "cell_type": "code",
   "execution_count": null,
   "metadata": {},
   "outputs": [],
   "source": [
    "# Project new data\n",
    "new_embedding = reducer.transform(new_data)"
   ]
  }
 ],
 "metadata": {
  "kernelspec": {
   "display_name": "Python 3 (ipykernel)",
   "language": "python",
   "name": "python3"
  },
  "language_info": {
   "codemirror_mode": {
    "name": "ipython",
    "version": 3
   },
   "file_extension": ".py",
   "mimetype": "text/x-python",
   "name": "python",
   "nbconvert_exporter": "python",
   "pygments_lexer": "ipython3",
   "version": "3.11.4"
  }
 },
 "nbformat": 4,
 "nbformat_minor": 2
}
